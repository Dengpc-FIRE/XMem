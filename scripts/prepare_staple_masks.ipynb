{
 "cells": [
  {
   "cell_type": "code",
   "execution_count": null,
   "metadata": {},
   "outputs": [],
   "source": [
    "from pathlib import Path\n",
    "import os\n",
    "import json\n",
    "import tqdm\n",
    "import glob\n",
    "import SimpleITK as sitk"
   ]
  },
  {
   "cell_type": "code",
   "execution_count": null,
   "metadata": {},
   "outputs": [],
   "source": [
    "# This is a helper script to compute the staple masks used as ground truth for the\n",
    "# testing sets."
   ]
  },
  {
   "cell_type": "code",
   "execution_count": null,
   "metadata": {},
   "outputs": [],
   "source": [
    "# Set the GC archive to upload to\n",
    "\n",
    "# prelimary testing phase\n",
    "DATASET_DIR = \"../dataset/preliminary\"\n",
    "\n",
    "# final testing phase\n",
    "DATASET_DIR = \"../dataset/testing\"\n"
   ]
  },
  {
   "cell_type": "code",
   "execution_count": null,
   "metadata": {},
   "outputs": [],
   "source": [
    "# Provide the expected cases to upload\n",
    "case_ids = sorted(os.listdir(DATASET_DIR))\n",
    "case_ids = [case_id for case_id in case_ids if os.path.isdir(f\"{DATASET_DIR}/{case_id}\")]"
   ]
  },
  {
   "cell_type": "code",
   "execution_count": null,
   "metadata": {},
   "outputs": [],
   "source": [
    "for case_id in tqdm.tqdm(case_ids):\n",
    "    LABEL_FILES_GLOB = f\"{DATASET_DIR}/{case_id}/targets/{case_id}_labels*.mha\"\n",
    "    LABELS = [sitk.ReadImage(f) for f in glob.glob(LABEL_FILES_GLOB)]\n",
    "    staple_label = sitk.STAPLEImageFilter().Execute(LABELS)\n",
    "    staple_label = staple_label > 0.5 \n",
    "    #staple_label = sitk.BinaryThresholdImageFilter().Execute(staple_label)\n",
    "    staple_label = sitk.Cast(staple_label, sitk.sitkUInt8)\n",
    "    staple_label.SetSpacing(LABELS[0].GetSpacing())\n",
    "    staple_label.SetOrigin(LABELS[0].GetOrigin())\n",
    "    staple_label.SetDirection(LABELS[0].GetDirection())\n",
    "    sitk.WriteImage(staple_label, f\"{DATASET_DIR}/{case_id}/targets/{case_id}_staple_labels.mha\", useCompression=True)"
   ]
  },
  {
   "cell_type": "code",
   "execution_count": null,
   "metadata": {},
   "outputs": [],
   "source": [
    "# prepare ground truth archive .tar.gz using python\n",
    "# only contains\n",
    "# {case_id}/targets/{case_id}_labels.mha\n",
    "\n",
    "import tarfile\n",
    "\n",
    "filename = os.path.join(os.path.dirname(DATASET_DIR), os.path.basename(DATASET_DIR) + \"_gt.tar.gz\")\n",
    "\n",
    "with tarfile.open(filename, \"w:gz\") as tar:\n",
    "    for case_id in case_ids:\n",
    "        target = f\"{DATASET_DIR}/{case_id}/targets/{case_id}_staple_labels.mha\"\n",
    "        if not os.path.exists(target):\n",
    "            raise RuntimeError(f\"Could not find {target}\")\n",
    "        tar.add(target, arcname=f\"{case_id}/targets/{case_id}_labels.mha\")\n"
   ]
  },
  {
   "cell_type": "code",
   "execution_count": null,
   "metadata": {},
   "outputs": [],
   "source": [
    "# check if the tar.gz is correct and matches the full dataset\n",
    "with tarfile.open(filename, \"r:gz\") as tar:\n",
    "    for member in tar.getmembers():\n",
    "        print(member.name, member.size)\n",
    "        case_id = member.name.split(\"/\")[0]\n",
    "        !ls -l $DATASET_DIR/{case_id}/targets/{case_id}_labels.mha"
   ]
  }
 ],
 "metadata": {
  "kernelspec": {
   "display_name": "Python 3",
   "language": "python",
   "name": "python3"
  },
  "language_info": {
   "codemirror_mode": {
    "name": "ipython",
    "version": 3
   },
   "file_extension": ".py",
   "mimetype": "text/x-python",
   "name": "python",
   "nbconvert_exporter": "python",
   "pygments_lexer": "ipython3",
   "version": "3.11.9"
  }
 },
 "nbformat": 4,
 "nbformat_minor": 2
}
